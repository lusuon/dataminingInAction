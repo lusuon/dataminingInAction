{
 "cells": [
  {
   "cell_type": "code",
   "execution_count": 1,
   "metadata": {},
   "outputs": [],
   "source": [
    "import pandas as pd\n",
    "import matplotlib.pyplot as plt\n",
    "import numpy as np"
   ]
  },
  {
   "cell_type": "markdown",
   "metadata": {},
   "source": [
    "## 1.通过pandas包读入cmd_CalculationData.csv\n"
   ]
  },
  {
   "cell_type": "code",
   "execution_count": 2,
   "metadata": {},
   "outputs": [
    {
     "data": {
      "text/html": [
       "<div>\n",
       "<style scoped>\n",
       "    .dataframe tbody tr th:only-of-type {\n",
       "        vertical-align: middle;\n",
       "    }\n",
       "\n",
       "    .dataframe tbody tr th {\n",
       "        vertical-align: top;\n",
       "    }\n",
       "\n",
       "    .dataframe thead th {\n",
       "        text-align: right;\n",
       "    }\n",
       "</style>\n",
       "<table border=\"1\" class=\"dataframe\">\n",
       "  <thead>\n",
       "    <tr style=\"text-align: right;\">\n",
       "      <th></th>\n",
       "      <th>Name</th>\n",
       "      <th>TimeDate</th>\n",
       "      <th>power</th>\n",
       "      <th>baro</th>\n",
       "      <th>windspeed1</th>\n",
       "      <th>windspeed2</th>\n",
       "      <th>winddirection</th>\n",
       "      <th>temp</th>\n",
       "      <th>power_max</th>\n",
       "      <th>power_min</th>\n",
       "      <th>...</th>\n",
       "      <th>grid_std</th>\n",
       "      <th>fault_max</th>\n",
       "      <th>fault_min</th>\n",
       "      <th>fault_std</th>\n",
       "      <th>windcha</th>\n",
       "      <th>tlqd</th>\n",
       "      <th>K_temp</th>\n",
       "      <th>md</th>\n",
       "      <th>v3</th>\n",
       "      <th>cp</th>\n",
       "    </tr>\n",
       "  </thead>\n",
       "  <tbody>\n",
       "    <tr>\n",
       "      <th>0</th>\n",
       "      <td>1</td>\n",
       "      <td>2016/11/9 13:00</td>\n",
       "      <td>-21.27</td>\n",
       "      <td>997.63</td>\n",
       "      <td>2.81</td>\n",
       "      <td>2.76</td>\n",
       "      <td>226.59</td>\n",
       "      <td>-0.51</td>\n",
       "      <td>43.45</td>\n",
       "      <td>-41.42</td>\n",
       "      <td>...</td>\n",
       "      <td>0.5</td>\n",
       "      <td>0</td>\n",
       "      <td>0</td>\n",
       "      <td>0</td>\n",
       "      <td>0.05</td>\n",
       "      <td>0.295374</td>\n",
       "      <td>272.64</td>\n",
       "      <td>1.274742</td>\n",
       "      <td>22.188041</td>\n",
       "      <td>-0.001380</td>\n",
       "    </tr>\n",
       "    <tr>\n",
       "      <th>1</th>\n",
       "      <td>1</td>\n",
       "      <td>2016/11/9 11:10</td>\n",
       "      <td>-38.70</td>\n",
       "      <td>999.04</td>\n",
       "      <td>3.01</td>\n",
       "      <td>2.97</td>\n",
       "      <td>209.90</td>\n",
       "      <td>-2.11</td>\n",
       "      <td>-19.73</td>\n",
       "      <td>-51.16</td>\n",
       "      <td>...</td>\n",
       "      <td>0.4</td>\n",
       "      <td>0</td>\n",
       "      <td>0</td>\n",
       "      <td>0</td>\n",
       "      <td>0.04</td>\n",
       "      <td>0.209302</td>\n",
       "      <td>271.04</td>\n",
       "      <td>1.284080</td>\n",
       "      <td>27.270901</td>\n",
       "      <td>-0.002028</td>\n",
       "    </tr>\n",
       "    <tr>\n",
       "      <th>2</th>\n",
       "      <td>1</td>\n",
       "      <td>2016/11/9 12:10</td>\n",
       "      <td>-38.05</td>\n",
       "      <td>998.46</td>\n",
       "      <td>3.14</td>\n",
       "      <td>3.10</td>\n",
       "      <td>243.00</td>\n",
       "      <td>-1.40</td>\n",
       "      <td>-11.24</td>\n",
       "      <td>-49.90</td>\n",
       "      <td>...</td>\n",
       "      <td>0.5</td>\n",
       "      <td>0</td>\n",
       "      <td>0</td>\n",
       "      <td>0</td>\n",
       "      <td>0.04</td>\n",
       "      <td>0.168790</td>\n",
       "      <td>271.75</td>\n",
       "      <td>1.279981</td>\n",
       "      <td>30.959144</td>\n",
       "      <td>-0.001762</td>\n",
       "    </tr>\n",
       "    <tr>\n",
       "      <th>3</th>\n",
       "      <td>1</td>\n",
       "      <td>2016/11/9 11:50</td>\n",
       "      <td>-30.16</td>\n",
       "      <td>998.61</td>\n",
       "      <td>3.19</td>\n",
       "      <td>3.12</td>\n",
       "      <td>218.40</td>\n",
       "      <td>-1.65</td>\n",
       "      <td>30.88</td>\n",
       "      <td>-48.64</td>\n",
       "      <td>...</td>\n",
       "      <td>0.5</td>\n",
       "      <td>0</td>\n",
       "      <td>0</td>\n",
       "      <td>0</td>\n",
       "      <td>0.07</td>\n",
       "      <td>0.197492</td>\n",
       "      <td>271.50</td>\n",
       "      <td>1.281352</td>\n",
       "      <td>32.461759</td>\n",
       "      <td>-0.001331</td>\n",
       "    </tr>\n",
       "    <tr>\n",
       "      <th>4</th>\n",
       "      <td>1</td>\n",
       "      <td>2016/11/9 13:20</td>\n",
       "      <td>-27.64</td>\n",
       "      <td>997.26</td>\n",
       "      <td>3.30</td>\n",
       "      <td>3.27</td>\n",
       "      <td>227.41</td>\n",
       "      <td>-0.52</td>\n",
       "      <td>170.75</td>\n",
       "      <td>-48.33</td>\n",
       "      <td>...</td>\n",
       "      <td>0.4</td>\n",
       "      <td>0</td>\n",
       "      <td>0</td>\n",
       "      <td>0</td>\n",
       "      <td>0.03</td>\n",
       "      <td>0.206061</td>\n",
       "      <td>272.63</td>\n",
       "      <td>1.274316</td>\n",
       "      <td>35.937000</td>\n",
       "      <td>-0.001108</td>\n",
       "    </tr>\n",
       "  </tbody>\n",
       "</table>\n",
       "<p>5 rows × 40 columns</p>\n",
       "</div>"
      ],
      "text/plain": [
       "   Name         TimeDate  power    baro  windspeed1  windspeed2  \\\n",
       "0     1  2016/11/9 13:00 -21.27  997.63        2.81        2.76   \n",
       "1     1  2016/11/9 11:10 -38.70  999.04        3.01        2.97   \n",
       "2     1  2016/11/9 12:10 -38.05  998.46        3.14        3.10   \n",
       "3     1  2016/11/9 11:50 -30.16  998.61        3.19        3.12   \n",
       "4     1  2016/11/9 13:20 -27.64  997.26        3.30        3.27   \n",
       "\n",
       "   winddirection  temp  power_max  power_min    ...     grid_std  fault_max  \\\n",
       "0         226.59 -0.51      43.45     -41.42    ...          0.5          0   \n",
       "1         209.90 -2.11     -19.73     -51.16    ...          0.4          0   \n",
       "2         243.00 -1.40     -11.24     -49.90    ...          0.5          0   \n",
       "3         218.40 -1.65      30.88     -48.64    ...          0.5          0   \n",
       "4         227.41 -0.52     170.75     -48.33    ...          0.4          0   \n",
       "\n",
       "   fault_min  fault_std  windcha      tlqd  K_temp        md         v3  \\\n",
       "0          0          0     0.05  0.295374  272.64  1.274742  22.188041   \n",
       "1          0          0     0.04  0.209302  271.04  1.284080  27.270901   \n",
       "2          0          0     0.04  0.168790  271.75  1.279981  30.959144   \n",
       "3          0          0     0.07  0.197492  271.50  1.281352  32.461759   \n",
       "4          0          0     0.03  0.206061  272.63  1.274316  35.937000   \n",
       "\n",
       "         cp  \n",
       "0 -0.001380  \n",
       "1 -0.002028  \n",
       "2 -0.001762  \n",
       "3 -0.001331  \n",
       "4 -0.001108  \n",
       "\n",
       "[5 rows x 40 columns]"
      ]
     },
     "execution_count": 2,
     "metadata": {},
     "output_type": "execute_result"
    }
   ],
   "source": [
    "data = pd.read_csv('scmd_CalculationData.csv')\n",
    "data.head()"
   ]
  },
  {
   "cell_type": "markdown",
   "metadata": {},
   "source": [
    "### 从中取出winddirection和windspeed1这2个字段，绘制风速与风向的散点图（风向为横轴，风速为y轴）。\n",
    "#### 要求：有标题(风速与风向的函数)、横纵坐标的标题、设置网格，保存图片文件命名为1风速与风向的函数.png"
   ]
  },
  {
   "cell_type": "code",
   "execution_count": 3,
   "metadata": {},
   "outputs": [
    {
     "data": {
      "image/png": "[encoded data removed]",
      "text/plain": [
       "<Figure size 432x288 with 1 Axes>"
      ]
     },
     "metadata": {
      "needs_background": "light"
     },
     "output_type": "display_data"
    }
   ],
   "source": [
    "wd = data['winddirection']\n",
    "ws = data['windspeed1']\n",
    "plt.rc('font', family='STXihei', size=15)\n",
    "plt.scatter(wd,ws,c='r',s=10)\n",
    "# 标题：风速与风向的函数\n",
    "plt.title('风速与风向的函数')\n",
    "plt.axis([120,260,2,14])\n",
    "# 横纵坐标标题\n",
    "plt.xlabel('风向（°）')\n",
    "plt.ylabel('风速（m/s）')\n",
    "# 设置网格\n",
    "plt.grid(color='#95a5a6',linestyle='--', linewidth=3,axis='both',alpha=0.4)\n",
    "# 保存文件：1风速与风向的函数.png\n",
    "plt.savefig('1风速与风向的函数.png')\n",
    "# 展示图片\n",
    "plt.show()"
   ]
  },
  {
   "cell_type": "markdown",
   "metadata": {},
   "source": [
    "## 2.通过pandas包将数据scmd_CalculationData.csv读入"
   ]
  },
  {
   "cell_type": "markdown",
   "metadata": {},
   "source": [
    "### 从中取出windspeed1、power_max、power_min、power和power_dev这5个字段，绘制功率特性的散点图（风速为x轴，其他为y轴）。\n",
    "#### 要求：\n",
    "##### 有标题(功率特性散点图)\n",
    "##### 横纵坐标的标题、图例、设置网格\n",
    "##### 保存图片文件命名为2功率特性散点图.png"
   ]
  },
  {
   "cell_type": "code",
   "execution_count": 4,
   "metadata": {},
   "outputs": [
    {
     "data": {
      "image/png": "[encoded data removed]",
      "text/plain": [
       "<Figure size 432x288 with 1 Axes>"
      ]
     },
     "metadata": {
      "needs_background": "light"
     },
     "output_type": "display_data"
    }
   ],
   "source": [
    "ws = data['windspeed1']\n",
    "pmax = data['power_max']\n",
    "pmin = data['power_min']\n",
    "power = data['power']\n",
    "pdev = data['power_dev']\n",
    "\n",
    "plt.rc('font', family='STXihei', size=15)\n",
    "plt.scatter(ws,pmax,s=10,c='red',label='最大值')\n",
    "plt.scatter(ws,pmin,s=10,c='black',label='最小值')\n",
    "plt.scatter(ws,power,s=10,c='blue',label='平均值')\n",
    "plt.scatter(ws,pdev,s=10,c='green',label='标准差')\n",
    "# 设置图例\n",
    "plt.legend()\n",
    "# 标题：功率特性散点图\n",
    "plt.title('功率特性散点图')\n",
    "plt.axis([0,20,-200,1600])\n",
    "plt.xticks(np.arange(0,20,5))\n",
    "plt.yticks(np.arange(-200,1600,200))\n",
    "# 横纵坐标标题\n",
    "plt.xlabel('风速（m/s）')\n",
    "plt.ylabel('功率（kW）')\n",
    "# 设置网格\n",
    "plt.grid(color='#95a5a6',linestyle='--',linewidth=2,axis='both',alpha=0.4)\n",
    "# 保存图片文件命名为2功率特性散点图.png\n",
    "plt.savefig('2功率特性散点图.png')\n",
    "# 展示图片\n",
    "plt.show()"
   ]
  },
  {
   "cell_type": "markdown",
   "metadata": {},
   "source": [
    "## 3.通过pandas包将数据bz_df_wt.csv读入"
   ]
  },
  {
   "cell_type": "code",
   "execution_count": 5,
   "metadata": {},
   "outputs": [
    {
     "data": {
      "text/html": [
       "<div>\n",
       "<style scoped>\n",
       "    .dataframe tbody tr th:only-of-type {\n",
       "        vertical-align: middle;\n",
       "    }\n",
       "\n",
       "    .dataframe tbody tr th {\n",
       "        vertical-align: top;\n",
       "    }\n",
       "\n",
       "    .dataframe thead th {\n",
       "        text-align: right;\n",
       "    }\n",
       "</style>\n",
       "<table border=\"1\" class=\"dataframe\">\n",
       "  <thead>\n",
       "    <tr style=\"text-align: right;\">\n",
       "      <th></th>\n",
       "      <th>binNum</th>\n",
       "      <th>bin_bz_cp</th>\n",
       "      <th>bin_bz_fs</th>\n",
       "      <th>bin_bz_power</th>\n",
       "      <th>bin_bz_size</th>\n",
       "    </tr>\n",
       "  </thead>\n",
       "  <tbody>\n",
       "    <tr>\n",
       "      <th>0</th>\n",
       "      <td>0</td>\n",
       "      <td>0.0</td>\n",
       "      <td>0.0</td>\n",
       "      <td>0.0</td>\n",
       "      <td>0.0</td>\n",
       "    </tr>\n",
       "    <tr>\n",
       "      <th>1</th>\n",
       "      <td>1</td>\n",
       "      <td>0.0</td>\n",
       "      <td>0.5</td>\n",
       "      <td>0.0</td>\n",
       "      <td>0.0</td>\n",
       "    </tr>\n",
       "    <tr>\n",
       "      <th>2</th>\n",
       "      <td>2</td>\n",
       "      <td>0.0</td>\n",
       "      <td>1.0</td>\n",
       "      <td>0.0</td>\n",
       "      <td>0.0</td>\n",
       "    </tr>\n",
       "    <tr>\n",
       "      <th>3</th>\n",
       "      <td>3</td>\n",
       "      <td>0.0</td>\n",
       "      <td>1.5</td>\n",
       "      <td>0.0</td>\n",
       "      <td>0.0</td>\n",
       "    </tr>\n",
       "    <tr>\n",
       "      <th>4</th>\n",
       "      <td>4</td>\n",
       "      <td>0.0</td>\n",
       "      <td>2.0</td>\n",
       "      <td>0.0</td>\n",
       "      <td>0.0</td>\n",
       "    </tr>\n",
       "  </tbody>\n",
       "</table>\n",
       "</div>"
      ],
      "text/plain": [
       "   binNum  bin_bz_cp  bin_bz_fs  bin_bz_power  bin_bz_size\n",
       "0       0        0.0        0.0           0.0          0.0\n",
       "1       1        0.0        0.5           0.0          0.0\n",
       "2       2        0.0        1.0           0.0          0.0\n",
       "3       3        0.0        1.5           0.0          0.0\n",
       "4       4        0.0        2.0           0.0          0.0"
      ]
     },
     "execution_count": 5,
     "metadata": {},
     "output_type": "execute_result"
    }
   ],
   "source": [
    "bz_data = pd.read_csv('bz_df_wt.csv')\n",
    "bz_data.head()"
   ]
  },
  {
   "cell_type": "markdown",
   "metadata": {},
   "source": [
    "### 从中取出bin_bz_fs<=20的数据，然后取出实际风速bin_bz_fs和实际功率bin_bz_power；"
   ]
  },
  {
   "cell_type": "code",
   "execution_count": 6,
   "metadata": {},
   "outputs": [
    {
     "data": {
      "text/html": [
       "<div>\n",
       "<style scoped>\n",
       "    .dataframe tbody tr th:only-of-type {\n",
       "        vertical-align: middle;\n",
       "    }\n",
       "\n",
       "    .dataframe tbody tr th {\n",
       "        vertical-align: top;\n",
       "    }\n",
       "\n",
       "    .dataframe thead th {\n",
       "        text-align: right;\n",
       "    }\n",
       "</style>\n",
       "<table border=\"1\" class=\"dataframe\">\n",
       "  <thead>\n",
       "    <tr style=\"text-align: right;\">\n",
       "      <th></th>\n",
       "      <th>binNum</th>\n",
       "      <th>bin_bz_cp</th>\n",
       "      <th>bin_bz_fs</th>\n",
       "      <th>bin_bz_power</th>\n",
       "      <th>bin_bz_size</th>\n",
       "    </tr>\n",
       "  </thead>\n",
       "  <tbody>\n",
       "    <tr>\n",
       "      <th>0</th>\n",
       "      <td>0</td>\n",
       "      <td>0.0</td>\n",
       "      <td>0.0</td>\n",
       "      <td>0.0</td>\n",
       "      <td>0.0</td>\n",
       "    </tr>\n",
       "    <tr>\n",
       "      <th>1</th>\n",
       "      <td>1</td>\n",
       "      <td>0.0</td>\n",
       "      <td>0.5</td>\n",
       "      <td>0.0</td>\n",
       "      <td>0.0</td>\n",
       "    </tr>\n",
       "    <tr>\n",
       "      <th>2</th>\n",
       "      <td>2</td>\n",
       "      <td>0.0</td>\n",
       "      <td>1.0</td>\n",
       "      <td>0.0</td>\n",
       "      <td>0.0</td>\n",
       "    </tr>\n",
       "    <tr>\n",
       "      <th>3</th>\n",
       "      <td>3</td>\n",
       "      <td>0.0</td>\n",
       "      <td>1.5</td>\n",
       "      <td>0.0</td>\n",
       "      <td>0.0</td>\n",
       "    </tr>\n",
       "    <tr>\n",
       "      <th>4</th>\n",
       "      <td>4</td>\n",
       "      <td>0.0</td>\n",
       "      <td>2.0</td>\n",
       "      <td>0.0</td>\n",
       "      <td>0.0</td>\n",
       "    </tr>\n",
       "  </tbody>\n",
       "</table>\n",
       "</div>"
      ],
      "text/plain": [
       "   binNum  bin_bz_cp  bin_bz_fs  bin_bz_power  bin_bz_size\n",
       "0       0        0.0        0.0           0.0          0.0\n",
       "1       1        0.0        0.5           0.0          0.0\n",
       "2       2        0.0        1.0           0.0          0.0\n",
       "3       3        0.0        1.5           0.0          0.0\n",
       "4       4        0.0        2.0           0.0          0.0"
      ]
     },
     "execution_count": 6,
     "metadata": {},
     "output_type": "execute_result"
    }
   ],
   "source": [
    "temp = bz_data[bz_data['bin_bz_fs'] <= 20]\n",
    "fs = temp['bin_bz_fs']\n",
    "power = temp['bin_bz_power']\n",
    "temp.head()"
   ]
  },
  {
   "cell_type": "markdown",
   "metadata": {},
   "source": [
    "### 再读入bzglqx.csv取出保证风速fs和保证功率gl，"
   ]
  },
  {
   "cell_type": "code",
   "execution_count": 7,
   "metadata": {},
   "outputs": [
    {
     "data": {
      "text/html": [
       "<div>\n",
       "<style scoped>\n",
       "    .dataframe tbody tr th:only-of-type {\n",
       "        vertical-align: middle;\n",
       "    }\n",
       "\n",
       "    .dataframe tbody tr th {\n",
       "        vertical-align: top;\n",
       "    }\n",
       "\n",
       "    .dataframe thead th {\n",
       "        text-align: right;\n",
       "    }\n",
       "</style>\n",
       "<table border=\"1\" class=\"dataframe\">\n",
       "  <thead>\n",
       "    <tr style=\"text-align: right;\">\n",
       "      <th></th>\n",
       "      <th>fs</th>\n",
       "      <th>gl</th>\n",
       "    </tr>\n",
       "  </thead>\n",
       "  <tbody>\n",
       "    <tr>\n",
       "      <th>0</th>\n",
       "      <td>0.0</td>\n",
       "      <td>0.0</td>\n",
       "    </tr>\n",
       "    <tr>\n",
       "      <th>1</th>\n",
       "      <td>0.5</td>\n",
       "      <td>0.0</td>\n",
       "    </tr>\n",
       "    <tr>\n",
       "      <th>2</th>\n",
       "      <td>1.0</td>\n",
       "      <td>0.0</td>\n",
       "    </tr>\n",
       "    <tr>\n",
       "      <th>3</th>\n",
       "      <td>1.5</td>\n",
       "      <td>0.0</td>\n",
       "    </tr>\n",
       "    <tr>\n",
       "      <th>4</th>\n",
       "      <td>2.0</td>\n",
       "      <td>0.0</td>\n",
       "    </tr>\n",
       "  </tbody>\n",
       "</table>\n",
       "</div>"
      ],
      "text/plain": [
       "    fs   gl\n",
       "0  0.0  0.0\n",
       "1  0.5  0.0\n",
       "2  1.0  0.0\n",
       "3  1.5  0.0\n",
       "4  2.0  0.0"
      ]
     },
     "execution_count": 7,
     "metadata": {},
     "output_type": "execute_result"
    }
   ],
   "source": [
    "bzg_data = pd.read_csv('bzglqx.csv',header=None,names=['fs','gl'])\n",
    "bzg_data.head()"
   ]
  },
  {
   "cell_type": "markdown",
   "metadata": {},
   "source": [
    "### 绘制功率曲线的对比图（一张图中绘制，横轴为风速，纵轴为功率）。\n",
    "\n",
    "#### 要求：\n",
    "##### 有标题(实测与设计功率曲线对比)\n",
    "##### 横纵坐标的标题，图例，设置网格\n",
    "###### 保存图片文件命名为3实测与设计功率曲线对比.png"
   ]
  },
  {
   "cell_type": "code",
   "execution_count": 8,
   "metadata": {},
   "outputs": [
    {
     "data": {
      "image/png": "[encoded data removed]",
      "text/plain": [
       "<Figure size 432x288 with 1 Axes>"
      ]
     },
     "metadata": {
      "needs_background": "light"
     },
     "output_type": "display_data"
    }
   ],
   "source": [
    "plt.rc('font', family='STXihei', size=15)\n",
    "plt.plot(fs,power,'ro-',label='实测功率曲线',ms=2)\n",
    "plt.plot(fs,bzg_data['gl'],'go-',label='设计功率曲线',ms=2)\n",
    "plt.yticks(np.arange(-200,1600,200))\n",
    "# 标题：实测与设计功率曲线对比\n",
    "plt.title('实测与设计功率曲线对比')\n",
    "# 横纵坐标标题\n",
    "plt.xlabel('风速（m/s）')\n",
    "plt.ylabel('功率（kW）')\n",
    "# 图例\n",
    "plt.legend()\n",
    "# 设置网格\n",
    "plt.grid(color='#95a5a6',linestyle='--',linewidth=2,axis='both',alpha=0.4)\n",
    "plt.savefig('3实测与设计功率曲线对比.png')\n",
    "plt.show()"
   ]
  }
 ],
 "metadata": {
  "kernelspec": {
   "display_name": "Python 3",
   "language": "python",
   "name": "python3"
  },
  "language_info": {
   "codemirror_mode": {
    "name": "ipython",
    "version": 3
   },
   "file_extension": ".py",
   "mimetype": "text/x-python",
   "name": "python",
   "nbconvert_exporter": "python",
   "pygments_lexer": "ipython3",
   "version": "3.7.0"
  }
 },
 "nbformat": 4,
 "nbformat_minor": 2
}
